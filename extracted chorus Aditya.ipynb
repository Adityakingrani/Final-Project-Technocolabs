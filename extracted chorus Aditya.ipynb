{
 "cells": [
  {
   "cell_type": "code",
   "execution_count": 6,
   "id": "4a816044",
   "metadata": {},
   "outputs": [
    {
     "name": "stdout",
     "output_type": "stream",
     "text": [
      "Defaulting to user installation because normal site-packages is not writeable\n",
      "Requirement already satisfied: pychorus in c:\\users\\kingr\\appdata\\roaming\\python\\python39\\site-packages (0.1)\n",
      "Requirement already satisfied: matplotlib in d:\\x86\\new folder\\lib\\site-packages (from pychorus) (3.4.3)\n",
      "Requirement already satisfied: numpy in d:\\x86\\new folder\\lib\\site-packages (from pychorus) (1.20.3)\n",
      "Requirement already satisfied: scipy in d:\\x86\\new folder\\lib\\site-packages (from pychorus) (1.7.1)\n",
      "Requirement already satisfied: soundfile in c:\\users\\kingr\\appdata\\roaming\\python\\python39\\site-packages (from pychorus) (0.10.3.post1)\n",
      "Requirement already satisfied: librosa in c:\\users\\kingr\\appdata\\roaming\\python\\python39\\site-packages (from pychorus) (0.9.2)\n",
      "Requirement already satisfied: scikit-learn>=0.19.1 in d:\\x86\\new folder\\lib\\site-packages (from librosa->pychorus) (0.24.2)\n",
      "Requirement already satisfied: packaging>=20.0 in d:\\x86\\new folder\\lib\\site-packages (from librosa->pychorus) (21.0)\n",
      "Requirement already satisfied: decorator>=4.0.10 in d:\\x86\\new folder\\lib\\site-packages (from librosa->pychorus) (5.1.0)\n",
      "Requirement already satisfied: pooch>=1.0 in c:\\users\\kingr\\appdata\\roaming\\python\\python39\\site-packages (from librosa->pychorus) (1.6.0)\n",
      "Requirement already satisfied: resampy>=0.2.2 in c:\\users\\kingr\\appdata\\roaming\\python\\python39\\site-packages (from librosa->pychorus) (0.4.2)\n",
      "Requirement already satisfied: numba>=0.45.1 in d:\\x86\\new folder\\lib\\site-packages (from librosa->pychorus) (0.54.1)\n",
      "Requirement already satisfied: joblib>=0.14 in d:\\x86\\new folder\\lib\\site-packages (from librosa->pychorus) (1.1.0)\n",
      "Requirement already satisfied: audioread>=2.1.9 in c:\\users\\kingr\\appdata\\roaming\\python\\python39\\site-packages (from librosa->pychorus) (3.0.0)\n",
      "Requirement already satisfied: setuptools in d:\\x86\\new folder\\lib\\site-packages (from numba>=0.45.1->librosa->pychorus) (58.0.4)\n",
      "Requirement already satisfied: llvmlite<0.38,>=0.37.0rc1 in d:\\x86\\new folder\\lib\\site-packages (from numba>=0.45.1->librosa->pychorus) (0.37.0)\n",
      "Requirement already satisfied: pyparsing>=2.0.2 in d:\\x86\\new folder\\lib\\site-packages (from packaging>=20.0->librosa->pychorus) (3.0.4)\n",
      "Requirement already satisfied: requests>=2.19.0 in d:\\x86\\new folder\\lib\\site-packages (from pooch>=1.0->librosa->pychorus) (2.26.0)\n",
      "Requirement already satisfied: appdirs>=1.3.0 in d:\\x86\\new folder\\lib\\site-packages (from pooch>=1.0->librosa->pychorus) (1.4.4)\n",
      "Requirement already satisfied: urllib3<1.27,>=1.21.1 in d:\\x86\\new folder\\lib\\site-packages (from requests>=2.19.0->pooch>=1.0->librosa->pychorus) (1.26.7)\n",
      "Requirement already satisfied: certifi>=2017.4.17 in d:\\x86\\new folder\\lib\\site-packages (from requests>=2.19.0->pooch>=1.0->librosa->pychorus) (2021.10.8)\n",
      "Requirement already satisfied: charset-normalizer~=2.0.0 in d:\\x86\\new folder\\lib\\site-packages (from requests>=2.19.0->pooch>=1.0->librosa->pychorus) (2.0.4)\n",
      "Requirement already satisfied: idna<4,>=2.5 in d:\\x86\\new folder\\lib\\site-packages (from requests>=2.19.0->pooch>=1.0->librosa->pychorus) (3.2)\n",
      "Requirement already satisfied: threadpoolctl>=2.0.0 in d:\\x86\\new folder\\lib\\site-packages (from scikit-learn>=0.19.1->librosa->pychorus) (2.2.0)\n",
      "Requirement already satisfied: cffi>=1.0 in d:\\x86\\new folder\\lib\\site-packages (from soundfile->pychorus) (1.14.6)\n",
      "Requirement already satisfied: pycparser in d:\\x86\\new folder\\lib\\site-packages (from cffi>=1.0->soundfile->pychorus) (2.20)\n",
      "Requirement already satisfied: kiwisolver>=1.0.1 in d:\\x86\\new folder\\lib\\site-packages (from matplotlib->pychorus) (1.3.1)\n",
      "Requirement already satisfied: pillow>=6.2.0 in d:\\x86\\new folder\\lib\\site-packages (from matplotlib->pychorus) (8.4.0)\n",
      "Requirement already satisfied: python-dateutil>=2.7 in d:\\x86\\new folder\\lib\\site-packages (from matplotlib->pychorus) (2.8.2)\n",
      "Requirement already satisfied: cycler>=0.10 in d:\\x86\\new folder\\lib\\site-packages (from matplotlib->pychorus) (0.10.0)\n",
      "Requirement already satisfied: six in d:\\x86\\new folder\\lib\\site-packages (from cycler>=0.10->matplotlib->pychorus) (1.16.0)\n"
     ]
    }
   ],
   "source": [
    "!pip install pychorus"
   ]
  },
  {
   "cell_type": "code",
   "execution_count": 7,
   "id": "89103b74",
   "metadata": {},
   "outputs": [],
   "source": [
    "# import necessary libraries \n",
    "import os \n",
    "import pandas as pd\n",
    "import warnings \n",
    "warnings.filterwarnings(action='ignore')"
   ]
  },
  {
   "cell_type": "code",
   "execution_count": 8,
   "id": "9050f634",
   "metadata": {},
   "outputs": [],
   "source": [
    "# read new data table with downloaded full songs path\n",
    "pwd = os.getcwd()\n",
    "data_path = os.path.join(pwd,'extracted_chorus.csv')\n",
    "data = pd.read_csv(data_path)\n",
    "df = data.copy()"
   ]
  },
  {
   "cell_type": "code",
   "execution_count": 9,
   "id": "d496af4a",
   "metadata": {},
   "outputs": [
    {
     "data": {
      "text/html": [
       "<div>\n",
       "<style scoped>\n",
       "    .dataframe tbody tr th:only-of-type {\n",
       "        vertical-align: middle;\n",
       "    }\n",
       "\n",
       "    .dataframe tbody tr th {\n",
       "        vertical-align: top;\n",
       "    }\n",
       "\n",
       "    .dataframe thead th {\n",
       "        text-align: right;\n",
       "    }\n",
       "</style>\n",
       "<table border=\"1\" class=\"dataframe\">\n",
       "  <thead>\n",
       "    <tr style=\"text-align: right;\">\n",
       "      <th></th>\n",
       "      <th>Artist</th>\n",
       "      <th>Title</th>\n",
       "      <th>Label</th>\n",
       "      <th>song_path</th>\n",
       "      <th>extracted_chorus_path</th>\n",
       "    </tr>\n",
       "  </thead>\n",
       "  <tbody>\n",
       "  </tbody>\n",
       "</table>\n",
       "</div>"
      ],
      "text/plain": [
       "Empty DataFrame\n",
       "Columns: [Artist, Title, Label, song_path, extracted_chorus_path]\n",
       "Index: []"
      ]
     },
     "execution_count": 9,
     "metadata": {},
     "output_type": "execute_result"
    }
   ],
   "source": [
    "df[df['song_path'].isna()] #check for null paths"
   ]
  },
  {
   "cell_type": "code",
   "execution_count": 10,
   "id": "123d908e",
   "metadata": {},
   "outputs": [],
   "source": [
    "full_songs_path = list(df['song_path']) # list of full songs downloaded path \n",
    "chorus_extract_path = 'chorus_extract' # path to save extracted chorus\n",
    "extracted_songs = [basename.replace('.wav','') for basename in os.listdir(chorus_extract_path)] # basename/ song name of already extracted song to avoid repitition in chorus extraction \n",
    "# extracted_songs"
   ]
  },
  {
   "cell_type": "code",
   "execution_count": 11,
   "id": "84edf091",
   "metadata": {},
   "outputs": [],
   "source": [
    "from pychorus import find_and_output_chorus # import chorus ectractor lib\n",
    "not_extrated = [] # list to track not extracted choruses "
   ]
  },
  {
   "cell_type": "code",
   "execution_count": 12,
   "id": "fb405e2f",
   "metadata": {},
   "outputs": [],
   "source": [
    "# helper function to extract 15s choruses from songs as required in paper \n",
    "def extract_chorus(path_list, output_path):\n",
    "    for path in path_list:\n",
    "        basename = os.path.basename(str(path)).replace('.mp3', '')\n",
    "        save_path = f'{output_path}/{basename}.wav' # output path as .wav extension \n",
    "        if basename in extracted_songs:\n",
    "            print('song already exists')\n",
    "        else:\n",
    "            chorus = find_and_output_chorus(str(path), str(save_path), 15)\n",
    "            if chorus == None:\n",
    "                not_extrated.append(basename)        "
   ]
  },
  {
   "cell_type": "code",
   "execution_count": 13,
   "id": "ce0f1544",
   "metadata": {},
   "outputs": [
    {
     "name": "stdout",
     "output_type": "stream",
     "text": [
      "song already exists\n",
      "song already exists\n",
      "song already exists\n",
      "song already exists\n",
      "song already exists\n",
      "song already exists\n",
      "song already exists\n",
      "song already exists\n",
      "song already exists\n",
      "song already exists\n",
      "song already exists\n",
      "song already exists\n",
      "song already exists\n",
      "song already exists\n",
      "song already exists\n",
      "song already exists\n",
      "song already exists\n",
      "song already exists\n",
      "song already exists\n"
     ]
    },
    {
     "ename": "NoBackendError",
     "evalue": "",
     "output_type": "error",
     "traceback": [
      "\u001b[1;31m---------------------------------------------------------------------------\u001b[0m",
      "\u001b[1;31mRuntimeError\u001b[0m                              Traceback (most recent call last)",
      "\u001b[1;32m~\\AppData\\Roaming\\Python\\Python39\\site-packages\\librosa\\core\\audio.py\u001b[0m in \u001b[0;36mload\u001b[1;34m(path, sr, mono, offset, duration, dtype, res_type)\u001b[0m\n\u001b[0;32m    163\u001b[0m         \u001b[1;32mtry\u001b[0m\u001b[1;33m:\u001b[0m\u001b[1;33m\u001b[0m\u001b[1;33m\u001b[0m\u001b[0m\n\u001b[1;32m--> 164\u001b[1;33m             \u001b[0my\u001b[0m\u001b[1;33m,\u001b[0m \u001b[0msr_native\u001b[0m \u001b[1;33m=\u001b[0m \u001b[0m__soundfile_load\u001b[0m\u001b[1;33m(\u001b[0m\u001b[0mpath\u001b[0m\u001b[1;33m,\u001b[0m \u001b[0moffset\u001b[0m\u001b[1;33m,\u001b[0m \u001b[0mduration\u001b[0m\u001b[1;33m,\u001b[0m \u001b[0mdtype\u001b[0m\u001b[1;33m)\u001b[0m\u001b[1;33m\u001b[0m\u001b[1;33m\u001b[0m\u001b[0m\n\u001b[0m\u001b[0;32m    165\u001b[0m \u001b[1;33m\u001b[0m\u001b[0m\n",
      "\u001b[1;32m~\\AppData\\Roaming\\Python\\Python39\\site-packages\\librosa\\core\\audio.py\u001b[0m in \u001b[0;36m__soundfile_load\u001b[1;34m(path, offset, duration, dtype)\u001b[0m\n\u001b[0;32m    194\u001b[0m         \u001b[1;31m# Otherwise, create the soundfile object\u001b[0m\u001b[1;33m\u001b[0m\u001b[1;33m\u001b[0m\u001b[0m\n\u001b[1;32m--> 195\u001b[1;33m         \u001b[0mcontext\u001b[0m \u001b[1;33m=\u001b[0m \u001b[0msf\u001b[0m\u001b[1;33m.\u001b[0m\u001b[0mSoundFile\u001b[0m\u001b[1;33m(\u001b[0m\u001b[0mpath\u001b[0m\u001b[1;33m)\u001b[0m\u001b[1;33m\u001b[0m\u001b[1;33m\u001b[0m\u001b[0m\n\u001b[0m\u001b[0;32m    196\u001b[0m \u001b[1;33m\u001b[0m\u001b[0m\n",
      "\u001b[1;32m~\\AppData\\Roaming\\Python\\Python39\\site-packages\\soundfile.py\u001b[0m in \u001b[0;36m__init__\u001b[1;34m(self, file, mode, samplerate, channels, subtype, endian, format, closefd)\u001b[0m\n\u001b[0;32m    628\u001b[0m                                          format, subtype, endian)\n\u001b[1;32m--> 629\u001b[1;33m         \u001b[0mself\u001b[0m\u001b[1;33m.\u001b[0m\u001b[0m_file\u001b[0m \u001b[1;33m=\u001b[0m \u001b[0mself\u001b[0m\u001b[1;33m.\u001b[0m\u001b[0m_open\u001b[0m\u001b[1;33m(\u001b[0m\u001b[0mfile\u001b[0m\u001b[1;33m,\u001b[0m \u001b[0mmode_int\u001b[0m\u001b[1;33m,\u001b[0m \u001b[0mclosefd\u001b[0m\u001b[1;33m)\u001b[0m\u001b[1;33m\u001b[0m\u001b[1;33m\u001b[0m\u001b[0m\n\u001b[0m\u001b[0;32m    630\u001b[0m         \u001b[1;32mif\u001b[0m \u001b[0mset\u001b[0m\u001b[1;33m(\u001b[0m\u001b[0mmode\u001b[0m\u001b[1;33m)\u001b[0m\u001b[1;33m.\u001b[0m\u001b[0missuperset\u001b[0m\u001b[1;33m(\u001b[0m\u001b[1;34m'r+'\u001b[0m\u001b[1;33m)\u001b[0m \u001b[1;32mand\u001b[0m \u001b[0mself\u001b[0m\u001b[1;33m.\u001b[0m\u001b[0mseekable\u001b[0m\u001b[1;33m(\u001b[0m\u001b[1;33m)\u001b[0m\u001b[1;33m:\u001b[0m\u001b[1;33m\u001b[0m\u001b[1;33m\u001b[0m\u001b[0m\n",
      "\u001b[1;32m~\\AppData\\Roaming\\Python\\Python39\\site-packages\\soundfile.py\u001b[0m in \u001b[0;36m_open\u001b[1;34m(self, file, mode_int, closefd)\u001b[0m\n\u001b[0;32m   1182\u001b[0m             \u001b[1;32mraise\u001b[0m \u001b[0mTypeError\u001b[0m\u001b[1;33m(\u001b[0m\u001b[1;34m\"Invalid file: {0!r}\"\u001b[0m\u001b[1;33m.\u001b[0m\u001b[0mformat\u001b[0m\u001b[1;33m(\u001b[0m\u001b[0mself\u001b[0m\u001b[1;33m.\u001b[0m\u001b[0mname\u001b[0m\u001b[1;33m)\u001b[0m\u001b[1;33m)\u001b[0m\u001b[1;33m\u001b[0m\u001b[1;33m\u001b[0m\u001b[0m\n\u001b[1;32m-> 1183\u001b[1;33m         _error_check(_snd.sf_error(file_ptr),\n\u001b[0m\u001b[0;32m   1184\u001b[0m                      \"Error opening {0!r}: \".format(self.name))\n",
      "\u001b[1;32m~\\AppData\\Roaming\\Python\\Python39\\site-packages\\soundfile.py\u001b[0m in \u001b[0;36m_error_check\u001b[1;34m(err, prefix)\u001b[0m\n\u001b[0;32m   1356\u001b[0m         \u001b[0merr_str\u001b[0m \u001b[1;33m=\u001b[0m \u001b[0m_snd\u001b[0m\u001b[1;33m.\u001b[0m\u001b[0msf_error_number\u001b[0m\u001b[1;33m(\u001b[0m\u001b[0merr\u001b[0m\u001b[1;33m)\u001b[0m\u001b[1;33m\u001b[0m\u001b[1;33m\u001b[0m\u001b[0m\n\u001b[1;32m-> 1357\u001b[1;33m         \u001b[1;32mraise\u001b[0m \u001b[0mRuntimeError\u001b[0m\u001b[1;33m(\u001b[0m\u001b[0mprefix\u001b[0m \u001b[1;33m+\u001b[0m \u001b[0m_ffi\u001b[0m\u001b[1;33m.\u001b[0m\u001b[0mstring\u001b[0m\u001b[1;33m(\u001b[0m\u001b[0merr_str\u001b[0m\u001b[1;33m)\u001b[0m\u001b[1;33m.\u001b[0m\u001b[0mdecode\u001b[0m\u001b[1;33m(\u001b[0m\u001b[1;34m'utf-8'\u001b[0m\u001b[1;33m,\u001b[0m \u001b[1;34m'replace'\u001b[0m\u001b[1;33m)\u001b[0m\u001b[1;33m)\u001b[0m\u001b[1;33m\u001b[0m\u001b[1;33m\u001b[0m\u001b[0m\n\u001b[0m\u001b[0;32m   1358\u001b[0m \u001b[1;33m\u001b[0m\u001b[0m\n",
      "\u001b[1;31mRuntimeError\u001b[0m: Error opening \"popular/What's Next.mp3\": File contains data in an unknown format.",
      "\nDuring handling of the above exception, another exception occurred:\n",
      "\u001b[1;31mNoBackendError\u001b[0m                            Traceback (most recent call last)",
      "\u001b[1;32m~\\AppData\\Local\\Temp/ipykernel_8040/1344164769.py\u001b[0m in \u001b[0;36m<module>\u001b[1;34m\u001b[0m\n\u001b[1;32m----> 1\u001b[1;33m \u001b[0mextract_chorus\u001b[0m\u001b[1;33m(\u001b[0m\u001b[0mfull_songs_path\u001b[0m\u001b[1;33m,\u001b[0m\u001b[0mchorus_extract_path\u001b[0m\u001b[1;33m)\u001b[0m \u001b[1;31m#extract all choruses\u001b[0m\u001b[1;33m\u001b[0m\u001b[1;33m\u001b[0m\u001b[0m\n\u001b[0m",
      "\u001b[1;32m~\\AppData\\Local\\Temp/ipykernel_8040/3028959734.py\u001b[0m in \u001b[0;36mextract_chorus\u001b[1;34m(path_list, output_path)\u001b[0m\n\u001b[0;32m      7\u001b[0m             \u001b[0mprint\u001b[0m\u001b[1;33m(\u001b[0m\u001b[1;34m'song already exists'\u001b[0m\u001b[1;33m)\u001b[0m\u001b[1;33m\u001b[0m\u001b[1;33m\u001b[0m\u001b[0m\n\u001b[0;32m      8\u001b[0m         \u001b[1;32melse\u001b[0m\u001b[1;33m:\u001b[0m\u001b[1;33m\u001b[0m\u001b[1;33m\u001b[0m\u001b[0m\n\u001b[1;32m----> 9\u001b[1;33m             \u001b[0mchorus\u001b[0m \u001b[1;33m=\u001b[0m \u001b[0mfind_and_output_chorus\u001b[0m\u001b[1;33m(\u001b[0m\u001b[0mstr\u001b[0m\u001b[1;33m(\u001b[0m\u001b[0mpath\u001b[0m\u001b[1;33m)\u001b[0m\u001b[1;33m,\u001b[0m \u001b[0mstr\u001b[0m\u001b[1;33m(\u001b[0m\u001b[0msave_path\u001b[0m\u001b[1;33m)\u001b[0m\u001b[1;33m,\u001b[0m \u001b[1;36m15\u001b[0m\u001b[1;33m)\u001b[0m\u001b[1;33m\u001b[0m\u001b[1;33m\u001b[0m\u001b[0m\n\u001b[0m\u001b[0;32m     10\u001b[0m             \u001b[1;32mif\u001b[0m \u001b[0mchorus\u001b[0m \u001b[1;33m==\u001b[0m \u001b[1;32mNone\u001b[0m\u001b[1;33m:\u001b[0m\u001b[1;33m\u001b[0m\u001b[1;33m\u001b[0m\u001b[0m\n\u001b[0;32m     11\u001b[0m                 \u001b[0mnot_extrated\u001b[0m\u001b[1;33m.\u001b[0m\u001b[0mappend\u001b[0m\u001b[1;33m(\u001b[0m\u001b[0mbasename\u001b[0m\u001b[1;33m)\u001b[0m\u001b[1;33m\u001b[0m\u001b[1;33m\u001b[0m\u001b[0m\n",
      "\u001b[1;32m~\\AppData\\Roaming\\Python\\Python39\\site-packages\\pychorus\\helpers.py\u001b[0m in \u001b[0;36mfind_and_output_chorus\u001b[1;34m(input_file, output_file, clip_length)\u001b[0m\n\u001b[0;32m    174\u001b[0m     \u001b[0mReturns\u001b[0m\u001b[1;33m:\u001b[0m \u001b[0mTime\u001b[0m \u001b[1;32min\u001b[0m \u001b[0mseconds\u001b[0m \u001b[0mof\u001b[0m \u001b[0mthe\u001b[0m \u001b[0mstart\u001b[0m \u001b[0mof\u001b[0m \u001b[0mthe\u001b[0m \u001b[0mbest\u001b[0m \u001b[0mchorus\u001b[0m\u001b[1;33m\u001b[0m\u001b[1;33m\u001b[0m\u001b[0m\n\u001b[0;32m    175\u001b[0m     \"\"\"\n\u001b[1;32m--> 176\u001b[1;33m     \u001b[0mchroma\u001b[0m\u001b[1;33m,\u001b[0m \u001b[0msong_wav_data\u001b[0m\u001b[1;33m,\u001b[0m \u001b[0msr\u001b[0m\u001b[1;33m,\u001b[0m \u001b[0msong_length_sec\u001b[0m \u001b[1;33m=\u001b[0m \u001b[0mcreate_chroma\u001b[0m\u001b[1;33m(\u001b[0m\u001b[0minput_file\u001b[0m\u001b[1;33m)\u001b[0m\u001b[1;33m\u001b[0m\u001b[1;33m\u001b[0m\u001b[0m\n\u001b[0m\u001b[0;32m    177\u001b[0m     \u001b[0mchorus_start\u001b[0m \u001b[1;33m=\u001b[0m \u001b[0mfind_chorus\u001b[0m\u001b[1;33m(\u001b[0m\u001b[0mchroma\u001b[0m\u001b[1;33m,\u001b[0m \u001b[0msr\u001b[0m\u001b[1;33m,\u001b[0m \u001b[0msong_length_sec\u001b[0m\u001b[1;33m,\u001b[0m \u001b[0mclip_length\u001b[0m\u001b[1;33m)\u001b[0m\u001b[1;33m\u001b[0m\u001b[1;33m\u001b[0m\u001b[0m\n\u001b[0;32m    178\u001b[0m     \u001b[1;32mif\u001b[0m \u001b[0mchorus_start\u001b[0m \u001b[1;32mis\u001b[0m \u001b[1;32mNone\u001b[0m\u001b[1;33m:\u001b[0m\u001b[1;33m\u001b[0m\u001b[1;33m\u001b[0m\u001b[0m\n",
      "\u001b[1;32m~\\AppData\\Roaming\\Python\\Python39\\site-packages\\pychorus\\helpers.py\u001b[0m in \u001b[0;36mcreate_chroma\u001b[1;34m(input_file, n_fft)\u001b[0m\n\u001b[0;32m    116\u001b[0m              \u001b[1;32mand\u001b[0m \u001b[0mthe\u001b[0m \u001b[0msong\u001b[0m \u001b[0mlength\u001b[0m \u001b[1;32min\u001b[0m \u001b[0mseconds\u001b[0m\u001b[1;33m\u001b[0m\u001b[1;33m\u001b[0m\u001b[0m\n\u001b[0;32m    117\u001b[0m     \"\"\"\n\u001b[1;32m--> 118\u001b[1;33m     \u001b[0my\u001b[0m\u001b[1;33m,\u001b[0m \u001b[0msr\u001b[0m \u001b[1;33m=\u001b[0m \u001b[0mlibrosa\u001b[0m\u001b[1;33m.\u001b[0m\u001b[0mload\u001b[0m\u001b[1;33m(\u001b[0m\u001b[0minput_file\u001b[0m\u001b[1;33m)\u001b[0m\u001b[1;33m\u001b[0m\u001b[1;33m\u001b[0m\u001b[0m\n\u001b[0m\u001b[0;32m    119\u001b[0m     \u001b[0msong_length_sec\u001b[0m \u001b[1;33m=\u001b[0m \u001b[0my\u001b[0m\u001b[1;33m.\u001b[0m\u001b[0mshape\u001b[0m\u001b[1;33m[\u001b[0m\u001b[1;36m0\u001b[0m\u001b[1;33m]\u001b[0m \u001b[1;33m/\u001b[0m \u001b[0mfloat\u001b[0m\u001b[1;33m(\u001b[0m\u001b[0msr\u001b[0m\u001b[1;33m)\u001b[0m\u001b[1;33m\u001b[0m\u001b[1;33m\u001b[0m\u001b[0m\n\u001b[0;32m    120\u001b[0m     \u001b[0mS\u001b[0m \u001b[1;33m=\u001b[0m \u001b[0mnp\u001b[0m\u001b[1;33m.\u001b[0m\u001b[0mabs\u001b[0m\u001b[1;33m(\u001b[0m\u001b[0mlibrosa\u001b[0m\u001b[1;33m.\u001b[0m\u001b[0mstft\u001b[0m\u001b[1;33m(\u001b[0m\u001b[0my\u001b[0m\u001b[1;33m,\u001b[0m \u001b[0mn_fft\u001b[0m\u001b[1;33m=\u001b[0m\u001b[0mn_fft\u001b[0m\u001b[1;33m)\u001b[0m\u001b[1;33m)\u001b[0m\u001b[1;33m**\u001b[0m\u001b[1;36m2\u001b[0m\u001b[1;33m\u001b[0m\u001b[1;33m\u001b[0m\u001b[0m\n",
      "\u001b[1;32m~\\AppData\\Roaming\\Python\\Python39\\site-packages\\librosa\\util\\decorators.py\u001b[0m in \u001b[0;36minner_f\u001b[1;34m(*args, **kwargs)\u001b[0m\n\u001b[0;32m     86\u001b[0m             \u001b[0mextra_args\u001b[0m \u001b[1;33m=\u001b[0m \u001b[0mlen\u001b[0m\u001b[1;33m(\u001b[0m\u001b[0margs\u001b[0m\u001b[1;33m)\u001b[0m \u001b[1;33m-\u001b[0m \u001b[0mlen\u001b[0m\u001b[1;33m(\u001b[0m\u001b[0mall_args\u001b[0m\u001b[1;33m)\u001b[0m\u001b[1;33m\u001b[0m\u001b[1;33m\u001b[0m\u001b[0m\n\u001b[0;32m     87\u001b[0m             \u001b[1;32mif\u001b[0m \u001b[0mextra_args\u001b[0m \u001b[1;33m<=\u001b[0m \u001b[1;36m0\u001b[0m\u001b[1;33m:\u001b[0m\u001b[1;33m\u001b[0m\u001b[1;33m\u001b[0m\u001b[0m\n\u001b[1;32m---> 88\u001b[1;33m                 \u001b[1;32mreturn\u001b[0m \u001b[0mf\u001b[0m\u001b[1;33m(\u001b[0m\u001b[1;33m*\u001b[0m\u001b[0margs\u001b[0m\u001b[1;33m,\u001b[0m \u001b[1;33m**\u001b[0m\u001b[0mkwargs\u001b[0m\u001b[1;33m)\u001b[0m\u001b[1;33m\u001b[0m\u001b[1;33m\u001b[0m\u001b[0m\n\u001b[0m\u001b[0;32m     89\u001b[0m \u001b[1;33m\u001b[0m\u001b[0m\n\u001b[0;32m     90\u001b[0m             \u001b[1;31m# extra_args > 0\u001b[0m\u001b[1;33m\u001b[0m\u001b[1;33m\u001b[0m\u001b[0m\n",
      "\u001b[1;32m~\\AppData\\Roaming\\Python\\Python39\\site-packages\\librosa\\core\\audio.py\u001b[0m in \u001b[0;36mload\u001b[1;34m(path, sr, mono, offset, duration, dtype, res_type)\u001b[0m\n\u001b[0;32m    168\u001b[0m             \u001b[1;32mif\u001b[0m \u001b[0misinstance\u001b[0m\u001b[1;33m(\u001b[0m\u001b[0mpath\u001b[0m\u001b[1;33m,\u001b[0m \u001b[1;33m(\u001b[0m\u001b[0mstr\u001b[0m\u001b[1;33m,\u001b[0m \u001b[0mpathlib\u001b[0m\u001b[1;33m.\u001b[0m\u001b[0mPurePath\u001b[0m\u001b[1;33m)\u001b[0m\u001b[1;33m)\u001b[0m\u001b[1;33m:\u001b[0m\u001b[1;33m\u001b[0m\u001b[1;33m\u001b[0m\u001b[0m\n\u001b[0;32m    169\u001b[0m                 \u001b[0mwarnings\u001b[0m\u001b[1;33m.\u001b[0m\u001b[0mwarn\u001b[0m\u001b[1;33m(\u001b[0m\u001b[1;34m\"PySoundFile failed. Trying audioread instead.\"\u001b[0m\u001b[1;33m,\u001b[0m \u001b[0mstacklevel\u001b[0m\u001b[1;33m=\u001b[0m\u001b[1;36m2\u001b[0m\u001b[1;33m)\u001b[0m\u001b[1;33m\u001b[0m\u001b[1;33m\u001b[0m\u001b[0m\n\u001b[1;32m--> 170\u001b[1;33m                 \u001b[0my\u001b[0m\u001b[1;33m,\u001b[0m \u001b[0msr_native\u001b[0m \u001b[1;33m=\u001b[0m \u001b[0m__audioread_load\u001b[0m\u001b[1;33m(\u001b[0m\u001b[0mpath\u001b[0m\u001b[1;33m,\u001b[0m \u001b[0moffset\u001b[0m\u001b[1;33m,\u001b[0m \u001b[0mduration\u001b[0m\u001b[1;33m,\u001b[0m \u001b[0mdtype\u001b[0m\u001b[1;33m)\u001b[0m\u001b[1;33m\u001b[0m\u001b[1;33m\u001b[0m\u001b[0m\n\u001b[0m\u001b[0;32m    171\u001b[0m             \u001b[1;32melse\u001b[0m\u001b[1;33m:\u001b[0m\u001b[1;33m\u001b[0m\u001b[1;33m\u001b[0m\u001b[0m\n\u001b[0;32m    172\u001b[0m                 \u001b[1;32mraise\u001b[0m \u001b[0mexc\u001b[0m\u001b[1;33m\u001b[0m\u001b[1;33m\u001b[0m\u001b[0m\n",
      "\u001b[1;32m~\\AppData\\Roaming\\Python\\Python39\\site-packages\\librosa\\core\\audio.py\u001b[0m in \u001b[0;36m__audioread_load\u001b[1;34m(path, offset, duration, dtype)\u001b[0m\n\u001b[0;32m    224\u001b[0m     \u001b[1;32melse\u001b[0m\u001b[1;33m:\u001b[0m\u001b[1;33m\u001b[0m\u001b[1;33m\u001b[0m\u001b[0m\n\u001b[0;32m    225\u001b[0m         \u001b[1;31m# If the input was not an audioread object, try to open it\u001b[0m\u001b[1;33m\u001b[0m\u001b[1;33m\u001b[0m\u001b[0m\n\u001b[1;32m--> 226\u001b[1;33m         \u001b[0mreader\u001b[0m \u001b[1;33m=\u001b[0m \u001b[0maudioread\u001b[0m\u001b[1;33m.\u001b[0m\u001b[0maudio_open\u001b[0m\u001b[1;33m(\u001b[0m\u001b[0mpath\u001b[0m\u001b[1;33m)\u001b[0m\u001b[1;33m\u001b[0m\u001b[1;33m\u001b[0m\u001b[0m\n\u001b[0m\u001b[0;32m    227\u001b[0m \u001b[1;33m\u001b[0m\u001b[0m\n\u001b[0;32m    228\u001b[0m     \u001b[1;32mwith\u001b[0m \u001b[0mreader\u001b[0m \u001b[1;32mas\u001b[0m \u001b[0minput_file\u001b[0m\u001b[1;33m:\u001b[0m\u001b[1;33m\u001b[0m\u001b[1;33m\u001b[0m\u001b[0m\n",
      "\u001b[1;32m~\\AppData\\Roaming\\Python\\Python39\\site-packages\\audioread\\__init__.py\u001b[0m in \u001b[0;36maudio_open\u001b[1;34m(path, backends)\u001b[0m\n\u001b[0;32m    130\u001b[0m \u001b[1;33m\u001b[0m\u001b[0m\n\u001b[0;32m    131\u001b[0m     \u001b[1;31m# All backends failed!\u001b[0m\u001b[1;33m\u001b[0m\u001b[1;33m\u001b[0m\u001b[0m\n\u001b[1;32m--> 132\u001b[1;33m     \u001b[1;32mraise\u001b[0m \u001b[0mNoBackendError\u001b[0m\u001b[1;33m(\u001b[0m\u001b[1;33m)\u001b[0m\u001b[1;33m\u001b[0m\u001b[1;33m\u001b[0m\u001b[0m\n\u001b[0m",
      "\u001b[1;31mNoBackendError\u001b[0m: "
     ]
    }
   ],
   "source": [
    "extract_chorus(full_songs_path,chorus_extract_path) #extract all choruses "
   ]
  },
  {
   "cell_type": "code",
   "execution_count": 14,
   "id": "fea4c0bc",
   "metadata": {},
   "outputs": [
    {
     "data": {
      "text/plain": [
       "0"
      ]
     },
     "execution_count": 14,
     "metadata": {},
     "output_type": "execute_result"
    }
   ],
   "source": [
    "len(not_extrated) # check total number of not extracted songs "
   ]
  },
  {
   "cell_type": "code",
   "execution_count": 15,
   "id": "11c3e0d6",
   "metadata": {},
   "outputs": [],
   "source": [
    "extracted_song_basename = [song.replace('.wav','') for song in os.listdir('chorus_extract')] # get extracteds songs basename\n",
    "extracted_song_list = [] # list for songs from table present in successful extraction list \n",
    "for song in df['song_path']:\n",
    "    basename = os.path.basename(song).replace('.mp3','')\n",
    "    if  basename in extracted_song_basename:\n",
    "        extracted_song_list.append(f'chorus_extract/{basename}.wav') # append successfuly extracted songs to list\n",
    "    else:\n",
    "        extracted_song_list.append('n/a') # append not available if extracted song does not exist "
   ]
  },
  {
   "cell_type": "code",
   "execution_count": 16,
   "id": "0641ad70",
   "metadata": {},
   "outputs": [
    {
     "data": {
      "text/plain": [
       "792"
      ]
     },
     "execution_count": 16,
     "metadata": {},
     "output_type": "execute_result"
    }
   ],
   "source": [
    "len(extracted_song_list)"
   ]
  },
  {
   "cell_type": "code",
   "execution_count": 18,
   "id": "948f7f12",
   "metadata": {},
   "outputs": [
    {
     "data": {
      "text/html": [
       "<div>\n",
       "<style scoped>\n",
       "    .dataframe tbody tr th:only-of-type {\n",
       "        vertical-align: middle;\n",
       "    }\n",
       "\n",
       "    .dataframe tbody tr th {\n",
       "        vertical-align: top;\n",
       "    }\n",
       "\n",
       "    .dataframe thead th {\n",
       "        text-align: right;\n",
       "    }\n",
       "</style>\n",
       "<table border=\"1\" class=\"dataframe\">\n",
       "  <thead>\n",
       "    <tr style=\"text-align: right;\">\n",
       "      <th></th>\n",
       "      <th>Artist</th>\n",
       "      <th>Title</th>\n",
       "      <th>Label</th>\n",
       "      <th>song_path</th>\n",
       "      <th>extracted_chorus_path</th>\n",
       "    </tr>\n",
       "  </thead>\n",
       "  <tbody>\n",
       "    <tr>\n",
       "      <th>0</th>\n",
       "      <td>The Weeknd</td>\n",
       "      <td>Blinding Lights</td>\n",
       "      <td>1</td>\n",
       "      <td>popular/Blinding Lights.mp3</td>\n",
       "      <td>chorus_extract/Blinding Lights.wav</td>\n",
       "    </tr>\n",
       "    <tr>\n",
       "      <th>1</th>\n",
       "      <td>Olivia Rodrigo</td>\n",
       "      <td>Good 4 U</td>\n",
       "      <td>1</td>\n",
       "      <td>popular/Good 4 U.mp3</td>\n",
       "      <td>chorus_extract/Good 4 U.wav</td>\n",
       "    </tr>\n",
       "    <tr>\n",
       "      <th>2</th>\n",
       "      <td>Olivia Rodrigo</td>\n",
       "      <td>Drivers License</td>\n",
       "      <td>1</td>\n",
       "      <td>popular/Drivers License.mp3</td>\n",
       "      <td>chorus_extract/Drivers License.wav</td>\n",
       "    </tr>\n",
       "    <tr>\n",
       "      <th>3</th>\n",
       "      <td>Lil Nas X</td>\n",
       "      <td>Montero (Call Me By Your Name)</td>\n",
       "      <td>1</td>\n",
       "      <td>popular/Montero (Call Me By Your Name).mp3</td>\n",
       "      <td>chorus_extract/Montero (Call Me By Your Name).wav</td>\n",
       "    </tr>\n",
       "    <tr>\n",
       "      <th>4</th>\n",
       "      <td>BTS</td>\n",
       "      <td>Butter</td>\n",
       "      <td>1</td>\n",
       "      <td>popular/Butter.mp3</td>\n",
       "      <td>chorus_extract/Butter.wav</td>\n",
       "    </tr>\n",
       "    <tr>\n",
       "      <th>...</th>\n",
       "      <td>...</td>\n",
       "      <td>...</td>\n",
       "      <td>...</td>\n",
       "      <td>...</td>\n",
       "      <td>...</td>\n",
       "    </tr>\n",
       "    <tr>\n",
       "      <th>787</th>\n",
       "      <td>Gwen Stefani</td>\n",
       "      <td>Crash</td>\n",
       "      <td>0</td>\n",
       "      <td>unpopular/Crash.mp3</td>\n",
       "      <td>chorus_extract/Crash.wav</td>\n",
       "    </tr>\n",
       "    <tr>\n",
       "      <th>788</th>\n",
       "      <td>Gwen Stefani</td>\n",
       "      <td>Luxurious</td>\n",
       "      <td>0</td>\n",
       "      <td>unpopular/Luxurious.mp3</td>\n",
       "      <td>chorus_extract/Luxurious.wav</td>\n",
       "    </tr>\n",
       "    <tr>\n",
       "      <th>789</th>\n",
       "      <td>Rihanna</td>\n",
       "      <td>If It's Lovin' That You Want</td>\n",
       "      <td>0</td>\n",
       "      <td>unpopular/If It's Lovin' That You Want.mp3</td>\n",
       "      <td>n/a</td>\n",
       "    </tr>\n",
       "    <tr>\n",
       "      <th>790</th>\n",
       "      <td>Alicia Keys</td>\n",
       "      <td>Unbreakable</td>\n",
       "      <td>0</td>\n",
       "      <td>unpopular/Unbreakable.mp3</td>\n",
       "      <td>chorus_extract/Unbreakable.wav</td>\n",
       "    </tr>\n",
       "    <tr>\n",
       "      <th>791</th>\n",
       "      <td>Rascal Flatts</td>\n",
       "      <td>Skin (Sarabeth)</td>\n",
       "      <td>0</td>\n",
       "      <td>unpopular/Skin (Sarabeth).mp3</td>\n",
       "      <td>chorus_extract/Skin (Sarabeth).wav</td>\n",
       "    </tr>\n",
       "  </tbody>\n",
       "</table>\n",
       "<p>792 rows × 5 columns</p>\n",
       "</div>"
      ],
      "text/plain": [
       "             Artist                           Title  Label  \\\n",
       "0        The Weeknd                 Blinding Lights      1   \n",
       "1    Olivia Rodrigo                        Good 4 U      1   \n",
       "2    Olivia Rodrigo                 Drivers License      1   \n",
       "3         Lil Nas X  Montero (Call Me By Your Name)      1   \n",
       "4               BTS                          Butter      1   \n",
       "..              ...                             ...    ...   \n",
       "787    Gwen Stefani                           Crash      0   \n",
       "788    Gwen Stefani                       Luxurious      0   \n",
       "789         Rihanna    If It's Lovin' That You Want      0   \n",
       "790     Alicia Keys                     Unbreakable      0   \n",
       "791   Rascal Flatts                 Skin (Sarabeth)      0   \n",
       "\n",
       "                                      song_path  \\\n",
       "0                   popular/Blinding Lights.mp3   \n",
       "1                          popular/Good 4 U.mp3   \n",
       "2                   popular/Drivers License.mp3   \n",
       "3    popular/Montero (Call Me By Your Name).mp3   \n",
       "4                            popular/Butter.mp3   \n",
       "..                                          ...   \n",
       "787                         unpopular/Crash.mp3   \n",
       "788                     unpopular/Luxurious.mp3   \n",
       "789  unpopular/If It's Lovin' That You Want.mp3   \n",
       "790                   unpopular/Unbreakable.mp3   \n",
       "791               unpopular/Skin (Sarabeth).mp3   \n",
       "\n",
       "                                 extracted_chorus_path  \n",
       "0                   chorus_extract/Blinding Lights.wav  \n",
       "1                          chorus_extract/Good 4 U.wav  \n",
       "2                   chorus_extract/Drivers License.wav  \n",
       "3    chorus_extract/Montero (Call Me By Your Name).wav  \n",
       "4                            chorus_extract/Butter.wav  \n",
       "..                                                 ...  \n",
       "787                           chorus_extract/Crash.wav  \n",
       "788                       chorus_extract/Luxurious.wav  \n",
       "789                                                n/a  \n",
       "790                     chorus_extract/Unbreakable.wav  \n",
       "791                 chorus_extract/Skin (Sarabeth).wav  \n",
       "\n",
       "[792 rows x 5 columns]"
      ]
     },
     "execution_count": 18,
     "metadata": {},
     "output_type": "execute_result"
    }
   ],
   "source": [
    "df = df.assign(extracted_chorus_path=extracted_song_list)# add new exteacted chorus paths to data table \n",
    "df"
   ]
  },
  {
   "cell_type": "code",
   "execution_count": 19,
   "id": "8dcba3c5",
   "metadata": {},
   "outputs": [
    {
     "data": {
      "text/html": [
       "<div>\n",
       "<style scoped>\n",
       "    .dataframe tbody tr th:only-of-type {\n",
       "        vertical-align: middle;\n",
       "    }\n",
       "\n",
       "    .dataframe tbody tr th {\n",
       "        vertical-align: top;\n",
       "    }\n",
       "\n",
       "    .dataframe thead th {\n",
       "        text-align: right;\n",
       "    }\n",
       "</style>\n",
       "<table border=\"1\" class=\"dataframe\">\n",
       "  <thead>\n",
       "    <tr style=\"text-align: right;\">\n",
       "      <th></th>\n",
       "      <th>Artist</th>\n",
       "      <th>Title</th>\n",
       "      <th>Label</th>\n",
       "      <th>song_path</th>\n",
       "      <th>extracted_chorus_path</th>\n",
       "    </tr>\n",
       "  </thead>\n",
       "  <tbody>\n",
       "    <tr>\n",
       "      <th>19</th>\n",
       "      <td>Drake</td>\n",
       "      <td>What's Next</td>\n",
       "      <td>1</td>\n",
       "      <td>popular/What's Next.mp3</td>\n",
       "      <td>n/a</td>\n",
       "    </tr>\n",
       "    <tr>\n",
       "      <th>35</th>\n",
       "      <td>Morgan Wallen</td>\n",
       "      <td>Chasin' You</td>\n",
       "      <td>1</td>\n",
       "      <td>popular/Chasin' You.mp3</td>\n",
       "      <td>n/a</td>\n",
       "    </tr>\n",
       "    <tr>\n",
       "      <th>47</th>\n",
       "      <td>Luke Combs</td>\n",
       "      <td>Even Though I'm Leaving</td>\n",
       "      <td>1</td>\n",
       "      <td>popular/Even Though I'm Leaving.mp3</td>\n",
       "      <td>n/a</td>\n",
       "    </tr>\n",
       "    <tr>\n",
       "      <th>50</th>\n",
       "      <td>Luke Combs</td>\n",
       "      <td>Lovin' On You</td>\n",
       "      <td>1</td>\n",
       "      <td>popular/Lovin' On You.mp3</td>\n",
       "      <td>n/a</td>\n",
       "    </tr>\n",
       "    <tr>\n",
       "      <th>60</th>\n",
       "      <td>Shawn Mendes</td>\n",
       "      <td>If I Can't Have You</td>\n",
       "      <td>1</td>\n",
       "      <td>popular/If I Can't Have You.mp3</td>\n",
       "      <td>n/a</td>\n",
       "    </tr>\n",
       "    <tr>\n",
       "      <th>...</th>\n",
       "      <td>...</td>\n",
       "      <td>...</td>\n",
       "      <td>...</td>\n",
       "      <td>...</td>\n",
       "      <td>...</td>\n",
       "    </tr>\n",
       "    <tr>\n",
       "      <th>756</th>\n",
       "      <td>Maroon 5</td>\n",
       "      <td>Won't Go Home Without You</td>\n",
       "      <td>0</td>\n",
       "      <td>unpopular/Won't Go Home Without You.mp3</td>\n",
       "      <td>n/a</td>\n",
       "    </tr>\n",
       "    <tr>\n",
       "      <th>770</th>\n",
       "      <td>Avril Lavigne</td>\n",
       "      <td>When You're Gone</td>\n",
       "      <td>0</td>\n",
       "      <td>unpopular/When You're Gone.mp3</td>\n",
       "      <td>n/a</td>\n",
       "    </tr>\n",
       "    <tr>\n",
       "      <th>773</th>\n",
       "      <td>Kanye West</td>\n",
       "      <td>Can't Tell Me Nothing</td>\n",
       "      <td>0</td>\n",
       "      <td>unpopular/Can't Tell Me Nothing.mp3</td>\n",
       "      <td>n/a</td>\n",
       "    </tr>\n",
       "    <tr>\n",
       "      <th>786</th>\n",
       "      <td>Carrie Underwood</td>\n",
       "      <td>Don't Forget To Remember Me</td>\n",
       "      <td>0</td>\n",
       "      <td>unpopular/Don't Forget To Remember Me.mp3</td>\n",
       "      <td>n/a</td>\n",
       "    </tr>\n",
       "    <tr>\n",
       "      <th>789</th>\n",
       "      <td>Rihanna</td>\n",
       "      <td>If It's Lovin' That You Want</td>\n",
       "      <td>0</td>\n",
       "      <td>unpopular/If It's Lovin' That You Want.mp3</td>\n",
       "      <td>n/a</td>\n",
       "    </tr>\n",
       "  </tbody>\n",
       "</table>\n",
       "<p>83 rows × 5 columns</p>\n",
       "</div>"
      ],
      "text/plain": [
       "               Artist                         Title  Label  \\\n",
       "19              Drake                   What's Next      1   \n",
       "35      Morgan Wallen                   Chasin' You      1   \n",
       "47         Luke Combs       Even Though I'm Leaving      1   \n",
       "50         Luke Combs                 Lovin' On You      1   \n",
       "60       Shawn Mendes           If I Can't Have You      1   \n",
       "..                ...                           ...    ...   \n",
       "756          Maroon 5     Won't Go Home Without You      0   \n",
       "770     Avril Lavigne              When You're Gone      0   \n",
       "773        Kanye West         Can't Tell Me Nothing      0   \n",
       "786  Carrie Underwood   Don't Forget To Remember Me      0   \n",
       "789           Rihanna  If It's Lovin' That You Want      0   \n",
       "\n",
       "                                      song_path extracted_chorus_path  \n",
       "19                      popular/What's Next.mp3                   n/a  \n",
       "35                      popular/Chasin' You.mp3                   n/a  \n",
       "47          popular/Even Though I'm Leaving.mp3                   n/a  \n",
       "50                    popular/Lovin' On You.mp3                   n/a  \n",
       "60              popular/If I Can't Have You.mp3                   n/a  \n",
       "..                                          ...                   ...  \n",
       "756     unpopular/Won't Go Home Without You.mp3                   n/a  \n",
       "770              unpopular/When You're Gone.mp3                   n/a  \n",
       "773         unpopular/Can't Tell Me Nothing.mp3                   n/a  \n",
       "786   unpopular/Don't Forget To Remember Me.mp3                   n/a  \n",
       "789  unpopular/If It's Lovin' That You Want.mp3                   n/a  \n",
       "\n",
       "[83 rows x 5 columns]"
      ]
     },
     "execution_count": 19,
     "metadata": {},
     "output_type": "execute_result"
    }
   ],
   "source": [
    "df[df['extracted_chorus_path']=='n/a'] # check for non available extracts path from list of chorus path"
   ]
  },
  {
   "cell_type": "code",
   "execution_count": 20,
   "id": "d92b8041",
   "metadata": {},
   "outputs": [],
   "source": [
    "#save table to csv file \n",
    "df.to_csv('extracted_chorus_incomplete.csv', index=False) # dataset with incomplete extracted choruses "
   ]
  },
  {
   "cell_type": "code",
   "execution_count": 21,
   "id": "6e277967",
   "metadata": {},
   "outputs": [
    {
     "data": {
      "text/plain": [
       "Artist                    0\n",
       "Title                     0\n",
       "Label                     0\n",
       "song_path                 0\n",
       "extracted_chorus_path    83\n",
       "dtype: int64"
      ]
     },
     "execution_count": 21,
     "metadata": {},
     "output_type": "execute_result"
    }
   ],
   "source": [
    "data1 = pd.read_csv('extracted_chorus_incomplete.csv')\n",
    "data1.isna().sum() # get total number of non available extracted paths "
   ]
  },
  {
   "cell_type": "code",
   "execution_count": 22,
   "id": "477a0272",
   "metadata": {},
   "outputs": [
    {
     "data": {
      "text/plain": [
       "Artist                   0\n",
       "Title                    0\n",
       "Label                    0\n",
       "song_path                0\n",
       "extracted_chorus_path    0\n",
       "dtype: int64"
      ]
     },
     "execution_count": 22,
     "metadata": {},
     "output_type": "execute_result"
    }
   ],
   "source": [
    "data1 = data1.dropna() # drop rows with non available extract path \n",
    "data1.isna().sum()"
   ]
  },
  {
   "cell_type": "code",
   "execution_count": null,
   "id": "919bc7a7",
   "metadata": {},
   "outputs": [],
   "source": [
    "#save table to csv file \n",
    "data1.to_csv('extracted_chorus.csv', index=False) "
   ]
  }
 ],
 "metadata": {
  "kernelspec": {
   "display_name": "Python 3 (ipykernel)",
   "language": "python",
   "name": "python3"
  },
  "language_info": {
   "codemirror_mode": {
    "name": "ipython",
    "version": 3
   },
   "file_extension": ".py",
   "mimetype": "text/x-python",
   "name": "python",
   "nbconvert_exporter": "python",
   "pygments_lexer": "ipython3",
   "version": "3.9.7"
  }
 },
 "nbformat": 4,
 "nbformat_minor": 5
}
