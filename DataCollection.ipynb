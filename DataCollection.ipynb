{
 "cells": [
  {
   "cell_type": "markdown",
   "id": "10bcb0c1",
   "metadata": {},
   "source": [
    "Import required packages"
   ]
  },
  {
   "cell_type": "code",
   "execution_count": 1,
   "id": "385b7b62",
   "metadata": {},
   "outputs": [
    {
     "name": "stdout",
     "output_type": "stream",
     "text": [
      "Defaulting to user installation because normal site-packages is not writeable\n",
      "Requirement already satisfied: billboard.py in c:\\users\\kingr\\appdata\\roaming\\python\\python39\\site-packages (7.0.0)\n",
      "Requirement already satisfied: requests>=2.2.1 in d:\\x86\\new folder\\lib\\site-packages (from billboard.py) (2.26.0)\n",
      "Requirement already satisfied: beautifulsoup4>=4.4.1 in d:\\x86\\new folder\\lib\\site-packages (from billboard.py) (4.10.0)\n",
      "Requirement already satisfied: soupsieve>1.2 in d:\\x86\\new folder\\lib\\site-packages (from beautifulsoup4>=4.4.1->billboard.py) (2.2.1)\n",
      "Requirement already satisfied: idna<4,>=2.5 in d:\\x86\\new folder\\lib\\site-packages (from requests>=2.2.1->billboard.py) (3.2)\n",
      "Requirement already satisfied: certifi>=2017.4.17 in d:\\x86\\new folder\\lib\\site-packages (from requests>=2.2.1->billboard.py) (2021.10.8)\n",
      "Requirement already satisfied: urllib3<1.27,>=1.21.1 in d:\\x86\\new folder\\lib\\site-packages (from requests>=2.2.1->billboard.py) (1.26.7)\n",
      "Requirement already satisfied: charset-normalizer~=2.0.0 in d:\\x86\\new folder\\lib\\site-packages (from requests>=2.2.1->billboard.py) (2.0.4)\n",
      "Note: you may need to restart the kernel to use updated packages.\n"
     ]
    }
   ],
   "source": [
    "pip install billboard.py"
   ]
  },
  {
   "cell_type": "code",
   "execution_count": 2,
   "id": "815a1b04",
   "metadata": {},
   "outputs": [],
   "source": [
    "# billboard to load data from Billboard.com\n",
    "import billboard\n",
    "# pandas to convert data into DataFrame\n",
    "import pandas as pd "
   ]
  },
  {
   "cell_type": "markdown",
   "id": "7b49bcac",
   "metadata": {},
   "source": [
    "Get top 10 artists from 2006 to 2021\n",
    "artists: top 10 artists in all years.\n",
    "year: to use it when loading songs.\n",
    "cnt: to stop itration when we get top 10 every year.\n",
    "chart: data from Billboard which include artists names and title of songs"
   ]
  },
  {
   "cell_type": "code",
   "execution_count": 4,
   "id": "370d2ffc",
   "metadata": {},
   "outputs": [
    {
     "data": {
      "text/plain": [
       "80"
      ]
     },
     "execution_count": 4,
     "metadata": {},
     "output_type": "execute_result"
    }
   ],
   "source": [
    "artists = []\n",
    "year = 2021\n",
    "for y in range(2022-2006):\n",
    "    chart = billboard.ChartData('Top-Artists', year=year)\n",
    "    cnt = 0\n",
    "    for chr in chart:\n",
    "        cnt += 1\n",
    "        if chr.artist not in artists:\n",
    "                artists.append(chr.artist)\n",
    "        if cnt == 10:\n",
    "            break\n",
    "    \n",
    "    year -= 1\n",
    "\n",
    "len(artists)"
   ]
  },
  {
   "cell_type": "markdown",
   "id": "b8ca0d59",
   "metadata": {},
   "source": [
    "Make a method to load data from Billboard\n",
    "prameters:\n",
    "\n",
    "type: type of chart we get from Billboard.\n",
    "\n",
    "data: list of dictionary we collocet data into.\n",
    "\n",
    "artists: list of artists names.\n",
    "\n",
    "titles: list of songs name use it to avoid repeat songs.\n",
    "\n",
    "year: use it when collect popular data.\n",
    "\n",
    "date: use it when collect unpopular data.\n",
    "\n",
    "year: use it when collect popular data.\n",
    "\n",
    "label: 1 if popular and 0 if unpopular."
   ]
  },
  {
   "cell_type": "code",
   "execution_count": 5,
   "id": "8d23e5e0",
   "metadata": {},
   "outputs": [],
   "source": [
    "def getData(type, data, artists, titles, year=None, date=None, label=None):\n",
    "    if date==None:\n",
    "        HotChart = billboard.ChartData(type, year=year)\n",
    "    else:\n",
    "        HotChart = billboard.ChartData(type, date=date)\n",
    "    for hot in HotChart:\n",
    "        # To collect the name of artists that exists in the artist's list and choose another song for the same artist.\n",
    "        # This is to avoid repeat songs and enter artist doesn't exist in artists list.\n",
    "        if hot.title not in titles and hot.artist in artists:\n",
    "                titles.append(hot.title)\n",
    "                data.append({'Artist': hot.artist, 'Title': hot.title, 'Label': label})\n",
    "    \n",
    "    return data, titles"
   ]
  },
  {
   "cell_type": "markdown",
   "id": "15ea616f",
   "metadata": {},
   "source": [
    "Here we collect popular data from 2006 to 2021"
   ]
  },
  {
   "cell_type": "code",
   "execution_count": 6,
   "id": "6cc3ce40",
   "metadata": {},
   "outputs": [],
   "source": [
    "data = []\n",
    "titles = []\n",
    "year = 2021\n",
    "for i in range(2022-2006):\n",
    "    data, titles = getData('Hot-100-Songs', data, artists, titles, year, label=1) # popular songs\n",
    "    year -= 1"
   ]
  },
  {
   "cell_type": "code",
   "execution_count": 7,
   "id": "8425ea41",
   "metadata": {},
   "outputs": [
    {
     "name": "stdout",
     "output_type": "stream",
     "text": [
      "403\n",
      "80\n",
      "403\n"
     ]
    }
   ],
   "source": [
    "print(len(data))\n",
    "print(len(artists))\n",
    "print(len(titles))"
   ]
  },
  {
   "cell_type": "markdown",
   "id": "45d1a140",
   "metadata": {},
   "source": [
    "Here I collect popular data from 2006 to 2021 I use another songs that I don't use in popular data\n",
    "I split the year into 4 splits to get a lot of songs with the same artists which I choose and used the same techniques for every year."
   ]
  },
  {
   "cell_type": "code",
   "execution_count": 8,
   "id": "fc121271",
   "metadata": {},
   "outputs": [],
   "source": [
    "dates = ['2021-12-01','2021-08-01','2021-04-01','2021-01-01',\n",
    "        '2020-12-01','2020-08-01','2020-04-01','2020-01-01',\n",
    "        '2019-12-01','2019-08-01','2019-04-01','2019-01-01',\n",
    "        '2018-12-01','2018-08-01','2018-04-01','2018-01-01',\n",
    "        '2017-12-01','2017-08-01','2017-04-01','2017-01-01',\n",
    "        '2016-12-01','2016-08-01','2016-04-01','2016-01-01',\n",
    "        '2015-12-01','2015-08-01','2015-04-01','2015-01-01',\n",
    "        '2014-12-01','2014-08-01','2014-04-01','2014-01-01',\n",
    "        '2013-12-01','2013-08-01','2013-04-01','2013-01-01',\n",
    "        '2012-12-01','2012-08-01','2012-04-01','2012-01-01',\n",
    "        '2011-12-01','2011-08-01','2011-04-01','2011-01-01',\n",
    "        '2010-12-01','2010-08-01','2010-04-01','2010-01-01',\n",
    "        '2009-12-01','2009-08-01','2009-04-01','2009-01-01',\n",
    "        '2008-12-01','2008-08-01','2008-04-01','2008-01-01',\n",
    "        '2007-12-01','2007-08-01','2007-04-01','2007-01-01',\n",
    "        '2006-12-01','2006-08-01','2006-04-01','2006-01-01']\n",
    "for date in dates:\n",
    "    data, titles = getData('hot-100', data, artists, titles, date=date, label=0) # unpopular songs"
   ]
  },
  {
   "cell_type": "code",
   "execution_count": 9,
   "id": "06772aef",
   "metadata": {},
   "outputs": [
    {
     "name": "stdout",
     "output_type": "stream",
     "text": [
      "809\n",
      "80\n",
      "809\n"
     ]
    }
   ],
   "source": [
    "print(len(data))\n",
    "print(len(artists))\n",
    "print(len(titles))"
   ]
  },
  {
   "cell_type": "markdown",
   "id": "d3100533",
   "metadata": {},
   "source": [
    "Convert data to dataframe by using pandas"
   ]
  },
  {
   "cell_type": "code",
   "execution_count": 10,
   "id": "6c3c05c8",
   "metadata": {},
   "outputs": [
    {
     "data": {
      "text/html": [
       "<div>\n",
       "<style scoped>\n",
       "    .dataframe tbody tr th:only-of-type {\n",
       "        vertical-align: middle;\n",
       "    }\n",
       "\n",
       "    .dataframe tbody tr th {\n",
       "        vertical-align: top;\n",
       "    }\n",
       "\n",
       "    .dataframe thead th {\n",
       "        text-align: right;\n",
       "    }\n",
       "</style>\n",
       "<table border=\"1\" class=\"dataframe\">\n",
       "  <thead>\n",
       "    <tr style=\"text-align: right;\">\n",
       "      <th></th>\n",
       "      <th>Artist</th>\n",
       "      <th>Title</th>\n",
       "      <th>Label</th>\n",
       "    </tr>\n",
       "  </thead>\n",
       "  <tbody>\n",
       "    <tr>\n",
       "      <th>0</th>\n",
       "      <td>The Weeknd</td>\n",
       "      <td>Blinding Lights</td>\n",
       "      <td>1</td>\n",
       "    </tr>\n",
       "    <tr>\n",
       "      <th>1</th>\n",
       "      <td>Olivia Rodrigo</td>\n",
       "      <td>Good 4 U</td>\n",
       "      <td>1</td>\n",
       "    </tr>\n",
       "    <tr>\n",
       "      <th>2</th>\n",
       "      <td>Olivia Rodrigo</td>\n",
       "      <td>Drivers License</td>\n",
       "      <td>1</td>\n",
       "    </tr>\n",
       "    <tr>\n",
       "      <th>3</th>\n",
       "      <td>Lil Nas X</td>\n",
       "      <td>Montero (Call Me By Your Name)</td>\n",
       "      <td>1</td>\n",
       "    </tr>\n",
       "    <tr>\n",
       "      <th>4</th>\n",
       "      <td>BTS</td>\n",
       "      <td>Butter</td>\n",
       "      <td>1</td>\n",
       "    </tr>\n",
       "    <tr>\n",
       "      <th>...</th>\n",
       "      <td>...</td>\n",
       "      <td>...</td>\n",
       "      <td>...</td>\n",
       "    </tr>\n",
       "    <tr>\n",
       "      <th>804</th>\n",
       "      <td>Gwen Stefani</td>\n",
       "      <td>Luxurious</td>\n",
       "      <td>0</td>\n",
       "    </tr>\n",
       "    <tr>\n",
       "      <th>805</th>\n",
       "      <td>Rihanna</td>\n",
       "      <td>If It's Lovin' That You Want</td>\n",
       "      <td>0</td>\n",
       "    </tr>\n",
       "    <tr>\n",
       "      <th>806</th>\n",
       "      <td>Lil Wayne</td>\n",
       "      <td>Fireman</td>\n",
       "      <td>0</td>\n",
       "    </tr>\n",
       "    <tr>\n",
       "      <th>807</th>\n",
       "      <td>Alicia Keys</td>\n",
       "      <td>Unbreakable</td>\n",
       "      <td>0</td>\n",
       "    </tr>\n",
       "    <tr>\n",
       "      <th>808</th>\n",
       "      <td>Rascal Flatts</td>\n",
       "      <td>Skin (Sarabeth)</td>\n",
       "      <td>0</td>\n",
       "    </tr>\n",
       "  </tbody>\n",
       "</table>\n",
       "<p>809 rows × 3 columns</p>\n",
       "</div>"
      ],
      "text/plain": [
       "             Artist                           Title  Label\n",
       "0        The Weeknd                 Blinding Lights      1\n",
       "1    Olivia Rodrigo                        Good 4 U      1\n",
       "2    Olivia Rodrigo                 Drivers License      1\n",
       "3         Lil Nas X  Montero (Call Me By Your Name)      1\n",
       "4               BTS                          Butter      1\n",
       "..              ...                             ...    ...\n",
       "804    Gwen Stefani                       Luxurious      0\n",
       "805         Rihanna    If It's Lovin' That You Want      0\n",
       "806       Lil Wayne                         Fireman      0\n",
       "807     Alicia Keys                     Unbreakable      0\n",
       "808   Rascal Flatts                 Skin (Sarabeth)      0\n",
       "\n",
       "[809 rows x 3 columns]"
      ]
     },
     "execution_count": 10,
     "metadata": {},
     "output_type": "execute_result"
    }
   ],
   "source": [
    "df = pd.DataFrame(data)\n",
    "df"
   ]
  },
  {
   "cell_type": "code",
   "execution_count": 11,
   "id": "98746031",
   "metadata": {},
   "outputs": [
    {
     "data": {
      "text/html": [
       "<div>\n",
       "<style scoped>\n",
       "    .dataframe tbody tr th:only-of-type {\n",
       "        vertical-align: middle;\n",
       "    }\n",
       "\n",
       "    .dataframe tbody tr th {\n",
       "        vertical-align: top;\n",
       "    }\n",
       "\n",
       "    .dataframe thead th {\n",
       "        text-align: right;\n",
       "    }\n",
       "</style>\n",
       "<table border=\"1\" class=\"dataframe\">\n",
       "  <thead>\n",
       "    <tr style=\"text-align: right;\">\n",
       "      <th></th>\n",
       "      <th>Artist</th>\n",
       "      <th>Title</th>\n",
       "      <th>Label</th>\n",
       "    </tr>\n",
       "  </thead>\n",
       "  <tbody>\n",
       "    <tr>\n",
       "      <th>0</th>\n",
       "      <td>The Weeknd</td>\n",
       "      <td>Blinding Lights</td>\n",
       "      <td>1</td>\n",
       "    </tr>\n",
       "    <tr>\n",
       "      <th>23</th>\n",
       "      <td>The Weeknd</td>\n",
       "      <td>Take My Breath</td>\n",
       "      <td>1</td>\n",
       "    </tr>\n",
       "    <tr>\n",
       "      <th>32</th>\n",
       "      <td>The Weeknd</td>\n",
       "      <td>Heartless</td>\n",
       "      <td>1</td>\n",
       "    </tr>\n",
       "    <tr>\n",
       "      <th>98</th>\n",
       "      <td>The Weeknd</td>\n",
       "      <td>Call Out My Name</td>\n",
       "      <td>1</td>\n",
       "    </tr>\n",
       "    <tr>\n",
       "      <th>139</th>\n",
       "      <td>The Weeknd</td>\n",
       "      <td>The Hills</td>\n",
       "      <td>1</td>\n",
       "    </tr>\n",
       "    <tr>\n",
       "      <th>145</th>\n",
       "      <td>The Weeknd</td>\n",
       "      <td>In The Night</td>\n",
       "      <td>1</td>\n",
       "    </tr>\n",
       "    <tr>\n",
       "      <th>148</th>\n",
       "      <td>The Weeknd</td>\n",
       "      <td>Can't Feel My Face</td>\n",
       "      <td>1</td>\n",
       "    </tr>\n",
       "    <tr>\n",
       "      <th>160</th>\n",
       "      <td>The Weeknd</td>\n",
       "      <td>Earned It (Fifty Shades Of Grey)</td>\n",
       "      <td>1</td>\n",
       "    </tr>\n",
       "    <tr>\n",
       "      <th>481</th>\n",
       "      <td>The Weeknd</td>\n",
       "      <td>In Your Eyes</td>\n",
       "      <td>0</td>\n",
       "    </tr>\n",
       "    <tr>\n",
       "      <th>482</th>\n",
       "      <td>The Weeknd</td>\n",
       "      <td>Alone Again</td>\n",
       "      <td>0</td>\n",
       "    </tr>\n",
       "    <tr>\n",
       "      <th>483</th>\n",
       "      <td>The Weeknd</td>\n",
       "      <td>After Hours</td>\n",
       "      <td>0</td>\n",
       "    </tr>\n",
       "    <tr>\n",
       "      <th>484</th>\n",
       "      <td>The Weeknd</td>\n",
       "      <td>Scared To Live</td>\n",
       "      <td>0</td>\n",
       "    </tr>\n",
       "    <tr>\n",
       "      <th>485</th>\n",
       "      <td>The Weeknd</td>\n",
       "      <td>Hardest To Love</td>\n",
       "      <td>0</td>\n",
       "    </tr>\n",
       "    <tr>\n",
       "      <th>487</th>\n",
       "      <td>The Weeknd</td>\n",
       "      <td>Too Late</td>\n",
       "      <td>0</td>\n",
       "    </tr>\n",
       "    <tr>\n",
       "      <th>488</th>\n",
       "      <td>The Weeknd</td>\n",
       "      <td>Snowchild</td>\n",
       "      <td>0</td>\n",
       "    </tr>\n",
       "    <tr>\n",
       "      <th>489</th>\n",
       "      <td>The Weeknd</td>\n",
       "      <td>Escape From LA</td>\n",
       "      <td>0</td>\n",
       "    </tr>\n",
       "    <tr>\n",
       "      <th>490</th>\n",
       "      <td>The Weeknd</td>\n",
       "      <td>Faith</td>\n",
       "      <td>0</td>\n",
       "    </tr>\n",
       "    <tr>\n",
       "      <th>491</th>\n",
       "      <td>The Weeknd</td>\n",
       "      <td>Repeat After Me (Interlude)</td>\n",
       "      <td>0</td>\n",
       "    </tr>\n",
       "    <tr>\n",
       "      <th>493</th>\n",
       "      <td>The Weeknd</td>\n",
       "      <td>Until I Bleed Out</td>\n",
       "      <td>0</td>\n",
       "    </tr>\n",
       "    <tr>\n",
       "      <th>555</th>\n",
       "      <td>The Weeknd</td>\n",
       "      <td>Reminder</td>\n",
       "      <td>0</td>\n",
       "    </tr>\n",
       "    <tr>\n",
       "      <th>561</th>\n",
       "      <td>The Weeknd</td>\n",
       "      <td>Party Monster</td>\n",
       "      <td>0</td>\n",
       "    </tr>\n",
       "    <tr>\n",
       "      <th>564</th>\n",
       "      <td>The Weeknd</td>\n",
       "      <td>Six Feet Under</td>\n",
       "      <td>0</td>\n",
       "    </tr>\n",
       "    <tr>\n",
       "      <th>577</th>\n",
       "      <td>The Weeknd</td>\n",
       "      <td>Acquainted</td>\n",
       "      <td>0</td>\n",
       "    </tr>\n",
       "    <tr>\n",
       "      <th>619</th>\n",
       "      <td>The Weeknd</td>\n",
       "      <td>Often</td>\n",
       "      <td>0</td>\n",
       "    </tr>\n",
       "    <tr>\n",
       "      <th>667</th>\n",
       "      <td>The Weeknd</td>\n",
       "      <td>Wicked Games</td>\n",
       "      <td>0</td>\n",
       "    </tr>\n",
       "  </tbody>\n",
       "</table>\n",
       "</div>"
      ],
      "text/plain": [
       "         Artist                             Title  Label\n",
       "0    The Weeknd                   Blinding Lights      1\n",
       "23   The Weeknd                    Take My Breath      1\n",
       "32   The Weeknd                         Heartless      1\n",
       "98   The Weeknd                  Call Out My Name      1\n",
       "139  The Weeknd                         The Hills      1\n",
       "145  The Weeknd                      In The Night      1\n",
       "148  The Weeknd                Can't Feel My Face      1\n",
       "160  The Weeknd  Earned It (Fifty Shades Of Grey)      1\n",
       "481  The Weeknd                      In Your Eyes      0\n",
       "482  The Weeknd                       Alone Again      0\n",
       "483  The Weeknd                       After Hours      0\n",
       "484  The Weeknd                    Scared To Live      0\n",
       "485  The Weeknd                   Hardest To Love      0\n",
       "487  The Weeknd                          Too Late      0\n",
       "488  The Weeknd                         Snowchild      0\n",
       "489  The Weeknd                    Escape From LA      0\n",
       "490  The Weeknd                             Faith      0\n",
       "491  The Weeknd       Repeat After Me (Interlude)      0\n",
       "493  The Weeknd                 Until I Bleed Out      0\n",
       "555  The Weeknd                          Reminder      0\n",
       "561  The Weeknd                     Party Monster      0\n",
       "564  The Weeknd                    Six Feet Under      0\n",
       "577  The Weeknd                        Acquainted      0\n",
       "619  The Weeknd                             Often      0\n",
       "667  The Weeknd                      Wicked Games      0"
      ]
     },
     "execution_count": 11,
     "metadata": {},
     "output_type": "execute_result"
    }
   ],
   "source": [
    "df[df['Artist']=='The Weeknd']"
   ]
  },
  {
   "cell_type": "code",
   "execution_count": 12,
   "id": "d2acaf9b",
   "metadata": {},
   "outputs": [
    {
     "data": {
      "text/plain": [
       "(809, 3)"
      ]
     },
     "execution_count": 12,
     "metadata": {},
     "output_type": "execute_result"
    }
   ],
   "source": [
    "df.shape"
   ]
  },
  {
   "cell_type": "markdown",
   "id": "f85fe34b",
   "metadata": {},
   "source": [
    "Save data as csv file"
   ]
  },
  {
   "cell_type": "code",
   "execution_count": null,
   "id": "08709a46",
   "metadata": {},
   "outputs": [],
   "source": [
    "df.to_csv('Billboard.csv', index=False)"
   ]
  }
 ],
 "metadata": {
  "kernelspec": {
   "display_name": "Python 3 (ipykernel)",
   "language": "python",
   "name": "python3"
  },
  "language_info": {
   "codemirror_mode": {
    "name": "ipython",
    "version": 3
   },
   "file_extension": ".py",
   "mimetype": "text/x-python",
   "name": "python",
   "nbconvert_exporter": "python",
   "pygments_lexer": "ipython3",
   "version": "3.9.7"
  }
 },
 "nbformat": 4,
 "nbformat_minor": 5
}
